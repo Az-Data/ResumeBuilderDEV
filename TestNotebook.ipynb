{
 "cells": [
  {
   "cell_type": "code",
   "execution_count": 12,
   "id": "df433884-3944-46a5-8673-b81e999d2190",
   "metadata": {},
   "outputs": [],
   "source": [
    "\n",
    "from docx import Document\n",
    "from docx.shared import Inches\n",
    "from docx.enum.text import WD_PARAGRAPH_ALIGNMENT\n",
    "from docx.shared import Pt\n",
    "import pandas as pd\n",
    "\n",
    "import sys\n",
    "# adding UtilityFuncts to the system path\n",
    "sys.path.insert(0, '/notebooks/Utility')\n",
    "import UtilityFuncts as uf"
   ]
  },
  {
   "cell_type": "code",
   "execution_count": 13,
   "id": "f0930e0a-25c3-4f47-80c1-222ab354a27f",
   "metadata": {},
   "outputs": [],
   "source": [
    "import os"
   ]
  },
  {
   "cell_type": "code",
   "execution_count": 14,
   "id": "f1bbfbbc-f20b-4fe6-b427-d5a0f1c8f01c",
   "metadata": {},
   "outputs": [],
   "source": [
    "# hf_token = os.environ.get('secret:hf_token')"
   ]
  },
  {
   "cell_type": "code",
   "execution_count": 15,
   "id": "728af005-c35c-4511-95ab-ce298f74aa0c",
   "metadata": {},
   "outputs": [],
   "source": [
    "# print(hf_token)"
   ]
  }
 ],
 "metadata": {
  "kernelspec": {
   "display_name": "Python 3 (ipykernel)",
   "language": "python",
   "name": "python3"
  },
  "language_info": {
   "codemirror_mode": {
    "name": "ipython",
    "version": 3
   },
   "file_extension": ".py",
   "mimetype": "text/x-python",
   "name": "python",
   "nbconvert_exporter": "python",
   "pygments_lexer": "ipython3",
   "version": "3.9.16"
  }
 },
 "nbformat": 4,
 "nbformat_minor": 5
}
