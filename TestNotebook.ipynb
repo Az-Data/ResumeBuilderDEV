{
 "cells": [
  {
   "cell_type": "code",
   "execution_count": null,
   "id": "ff1b3f8a-c93e-401e-b66d-88ea129641a0",
   "metadata": {},
   "outputs": [],
   "source": [
    "# Import relevant functions\n",
    "import numpy as np\n",
    "from numpy.linalg import norm\n",
    "import pandas as pd\n",
    "from sentence_transformers import SentenceTransformer\n",
    "from langchain.text_splitter import RecursiveCharacterTextSplitter\n",
    "import torch\n",
    "torch.cuda.empty_cache()"
   ]
  },
  {
   "cell_type": "code",
   "execution_count": 2,
   "id": "e634ad32-6089-4175-a1e9-2dd5df73f904",
   "metadata": {},
   "outputs": [],
   "source": [
    "import os"
   ]
  },
  {
   "cell_type": "code",
   "execution_count": 8,
   "id": "df433884-3944-46a5-8673-b81e999d2190",
   "metadata": {},
   "outputs": [
    {
     "data": {
      "text/plain": [
       "['Utility.py', '.ipynb_checkpoints']"
      ]
     },
     "execution_count": 8,
     "metadata": {},
     "output_type": "execute_result"
    }
   ],
   "source": [
    "Output_folder_path = 'Utility/'\n",
    "\n",
    "os.listdir(Output_folder_path)"
   ]
  }
 ],
 "metadata": {
  "kernelspec": {
   "display_name": "Python 3 (ipykernel)",
   "language": "python",
   "name": "python3"
  },
  "language_info": {
   "codemirror_mode": {
    "name": "ipython",
    "version": 3
   },
   "file_extension": ".py",
   "mimetype": "text/x-python",
   "name": "python",
   "nbconvert_exporter": "python",
   "pygments_lexer": "ipython3",
   "version": "3.9.16"
  }
 },
 "nbformat": 4,
 "nbformat_minor": 5
}
