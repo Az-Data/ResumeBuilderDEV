{
 "cells": [
  {
   "cell_type": "code",
   "execution_count": null,
   "id": "07d1a36c-5f70-4298-874e-9759f9c76f8f",
   "metadata": {},
   "outputs": [],
   "source": [
    "# This is where I make changes"
   ]
  },
  {
   "cell_type": "code",
   "execution_count": 6,
   "id": "38b84121-7b79-4d2a-a6f4-3f936d4f642b",
   "metadata": {},
   "outputs": [],
   "source": [
    "import torch\n",
    "torch.cuda.empty_cache()"
   ]
  },
  {
   "cell_type": "code",
   "execution_count": null,
   "id": "90567bec-99c5-4fa1-a3b6-cdd1ea7437f3",
   "metadata": {},
   "outputs": [],
   "source": [
    "import os"
   ]
  },
  {
   "cell_type": "code",
   "execution_count": null,
   "id": "a7f445f6-f335-4fcd-ad4a-88554bf53e27",
   "metadata": {},
   "outputs": [],
   "source": [
    "os.path.abspath(\"TestNotebook.ipynb\")"
   ]
  },
  {
   "cell_type": "code",
   "execution_count": null,
   "id": "aced0f33-223c-4a8b-abe7-de1e97e41274",
   "metadata": {
    "tags": []
   },
   "outputs": [],
   "source": [
    "os.listdir(\"Inputs/\")"
   ]
  },
  {
   "cell_type": "code",
   "execution_count": null,
   "id": "b9b955e8-7bb7-4920-b7bc-3a774dc8aaf9",
   "metadata": {},
   "outputs": [],
   "source": [
    "import sys\n",
    "\n",
    "# adding Utility to the system path\n",
    "sys.path.insert(0, '/notebooks/Utility')\n",
    "\n",
    "import UtilityFuncts as uf"
   ]
  },
  {
   "cell_type": "code",
   "execution_count": null,
   "id": "60c3394c-4b16-48cd-a29e-f8cba7475fd1",
   "metadata": {},
   "outputs": [],
   "source": [
    "uf.obtain_ad_folder_dict()"
   ]
  },
  {
   "cell_type": "code",
   "execution_count": 1,
   "id": "3a02c76f-06f6-4242-a734-85ddeac66a60",
   "metadata": {
    "tags": []
   },
   "outputs": [
    {
     "name": "stdout",
     "output_type": "stream",
     "text": [
      "\u001b[31mERROR: pip's dependency resolver does not currently take into account all the packages that are installed. This behaviour is the source of the following dependency conflicts.\n",
      "torchvision 0.13.1+cu116 requires torch==1.12.1, but you have torch 2.0.1 which is incompatible.\n",
      "torchaudio 0.12.1+cu116 requires torch==1.12.1, but you have torch 2.0.1 which is incompatible.\n",
      "spacy 3.4.1 requires pydantic!=1.8,!=1.8.1,<1.10.0,>=1.7.4, but you have pydantic 1.10.11 which is incompatible.\n",
      "gradient 2.0.6 requires marshmallow<3.0, but you have marshmallow 3.20.1 which is incompatible.\u001b[0m\u001b[31m\n",
      "\u001b[0m\u001b[33mWARNING: Running pip as the 'root' user can result in broken permissions and conflicting behaviour with the system package manager. It is recommended to use a virtual environment instead: https://pip.pypa.io/warnings/venv\u001b[0m\u001b[33m\n",
      "\u001b[0m"
     ]
    }
   ],
   "source": [
    "!pip install -r requirements.txt -q"
   ]
  },
  {
   "cell_type": "code",
   "execution_count": null,
   "id": "b239a0a9-f769-41ae-8f36-988a96ce36d3",
   "metadata": {},
   "outputs": [],
   "source": [
    "%run \"/notebooks/Pipelines/JobSkillsPipeline.py\""
   ]
  },
  {
   "cell_type": "code",
   "execution_count": null,
   "id": "c7a742d9-d3f0-400c-8d51-04c6914db5cd",
   "metadata": {},
   "outputs": [],
   "source": [
    "%run \"/notebooks/Pipelines/EducationPipeline.py\""
   ]
  },
  {
   "cell_type": "code",
   "execution_count": null,
   "id": "f869a9ef-97a3-413a-b049-0fb973362b66",
   "metadata": {},
   "outputs": [],
   "source": [
    "%run \"/notebooks/Pipelines/AchievementsPipeline.py\""
   ]
  },
  {
   "cell_type": "code",
   "execution_count": 1,
   "id": "00f0f274-ee8c-4f55-a4bc-2d15a7d49054",
   "metadata": {},
   "outputs": [
    {
     "name": "stdout",
     "output_type": "stream",
     "text": [
      "Loading LLM into GPU memory\n"
     ]
    },
    {
     "data": {
      "application/vnd.jupyter.widget-view+json": {
       "model_id": "e67886b3bf674fdfae3727e1bbe60eb7",
       "version_major": 2,
       "version_minor": 0
      },
      "text/plain": [
       "Loading checkpoint shards:   0%|          | 0/2 [00:00<?, ?it/s]"
      ]
     },
     "metadata": {},
     "output_type": "display_data"
    },
    {
     "name": "stderr",
     "output_type": "stream",
     "text": [
      "Xformers is not installed correctly. If you want to use memorry_efficient_attention to accelerate training use the following command to install Xformers\n",
      "pip install xformers.\n",
      "/usr/local/lib/python3.9/dist-packages/transformers/generation/utils.py:1255: UserWarning: You have modified the pretrained model configuration to control generation. This is a deprecated strategy to control generation and will be removed soon, in a future version. Please use a generation configuration file (see https://huggingface.co/docs/transformers/main_classes/text_generation)\n",
      "  warnings.warn(\n"
     ]
    },
    {
     "name": "stdout",
     "output_type": "stream",
     "text": [
      "Generating cover letter for ad1.txt\n"
     ]
    }
   ],
   "source": [
    "%run \"/notebooks/Pipelines/CoverLetterPipeline.py\""
   ]
  },
  {
   "cell_type": "code",
   "execution_count": 1,
   "id": "3a356f0a-0b24-4780-9ab0-a13aded252f4",
   "metadata": {},
   "outputs": [
    {
     "ename": "FileNotFoundError",
     "evalue": "[Errno 2] No such file or directory: '/notebooks/Resume Components/ad1_2023-09-09_06-10-41/cover_letter_text.txt'",
     "output_type": "error",
     "traceback": [
      "\u001b[0;31m---------------------------------------------------------------------------\u001b[0m",
      "\u001b[0;31mFileNotFoundError\u001b[0m                         Traceback (most recent call last)",
      "File \u001b[0;32m/notebooks/Pipelines/Resume_CoverLetter_Generator.py:157\u001b[0m\n\u001b[1;32m    154\u001b[0m \u001b[38;5;66;03m# Generate and save cover letter\u001b[39;00m\n\u001b[1;32m    155\u001b[0m \u001b[38;5;66;03m# Cover Letter Text\u001b[39;00m\n\u001b[1;32m    156\u001b[0m cover_letter_text_path \u001b[38;5;241m=\u001b[39m \u001b[38;5;124mf\u001b[39m\u001b[38;5;124m\"\u001b[39m\u001b[38;5;124m/notebooks/Resume Components/\u001b[39m\u001b[38;5;132;01m{\u001b[39;00mfolder\u001b[38;5;132;01m}\u001b[39;00m\u001b[38;5;124m/cover_letter_text.txt\u001b[39m\u001b[38;5;124m\"\u001b[39m\n\u001b[0;32m--> 157\u001b[0m \u001b[38;5;28;01mwith\u001b[39;00m \u001b[38;5;28;43mopen\u001b[39;49m\u001b[43m(\u001b[49m\u001b[43mcover_letter_text_path\u001b[49m\u001b[43m)\u001b[49m \u001b[38;5;28;01mas\u001b[39;00m f:\n\u001b[1;32m    158\u001b[0m     cover_letter_text \u001b[38;5;241m=\u001b[39m f\u001b[38;5;241m.\u001b[39mread()\n\u001b[1;32m    160\u001b[0m cover_letter \u001b[38;5;241m=\u001b[39m Document()\n",
      "\u001b[0;31mFileNotFoundError\u001b[0m: [Errno 2] No such file or directory: '/notebooks/Resume Components/ad1_2023-09-09_06-10-41/cover_letter_text.txt'"
     ]
    }
   ],
   "source": [
    "%run \"/notebooks/Pipelines/Resume_CoverLetter_Generator.py\""
   ]
  }
 ],
 "metadata": {
  "kernelspec": {
   "display_name": "Python 3 (ipykernel)",
   "language": "python",
   "name": "python3"
  },
  "language_info": {
   "codemirror_mode": {
    "name": "ipython",
    "version": 3
   },
   "file_extension": ".py",
   "mimetype": "text/x-python",
   "name": "python",
   "nbconvert_exporter": "python",
   "pygments_lexer": "ipython3",
   "version": "3.9.16"
  }
 },
 "nbformat": 4,
 "nbformat_minor": 5
}
