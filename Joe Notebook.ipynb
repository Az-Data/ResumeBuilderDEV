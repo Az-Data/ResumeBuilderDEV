{
 "cells": [
  {
   "cell_type": "code",
   "execution_count": null,
   "id": "07d1a36c-5f70-4298-874e-9759f9c76f8f",
   "metadata": {},
   "outputs": [],
   "source": [
    "# This is where I make changes"
   ]
  }
 ],
 "metadata": {
  "kernelspec": {
   "display_name": "Python 3 (ipykernel)",
   "language": "python",
   "name": "python3"
  },
  "language_info": {
   "codemirror_mode": {
    "name": "ipython",
    "version": 3
   },
   "file_extension": ".py",
   "mimetype": "text/x-python",
   "name": "python",
   "nbconvert_exporter": "python",
   "pygments_lexer": "ipython3",
   "version": "3.9.16"
  }
 },
 "nbformat": 4,
 "nbformat_minor": 5
}
