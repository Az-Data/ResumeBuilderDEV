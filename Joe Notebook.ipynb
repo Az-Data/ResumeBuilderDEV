{
 "cells": [
  {
   "cell_type": "code",
   "execution_count": null,
   "id": "07d1a36c-5f70-4298-874e-9759f9c76f8f",
   "metadata": {},
   "outputs": [],
   "source": [
    "# This is where I make changes"
   ]
  },
  {
   "cell_type": "code",
   "execution_count": 1,
   "id": "90567bec-99c5-4fa1-a3b6-cdd1ea7437f3",
   "metadata": {},
   "outputs": [],
   "source": [
    "import os"
   ]
  },
  {
   "cell_type": "code",
   "execution_count": 2,
   "id": "a7f445f6-f335-4fcd-ad4a-88554bf53e27",
   "metadata": {},
   "outputs": [
    {
     "data": {
      "text/plain": [
       "'/notebooks/TestNotebook.ipynb'"
      ]
     },
     "execution_count": 2,
     "metadata": {},
     "output_type": "execute_result"
    }
   ],
   "source": [
    "os.path.abspath(\"TestNotebook.ipynb\")"
   ]
  },
  {
   "cell_type": "code",
   "execution_count": 14,
   "id": "aced0f33-223c-4a8b-abe7-de1e97e41274",
   "metadata": {
    "tags": []
   },
   "outputs": [
    {
     "data": {
      "text/plain": [
       "['Skills.txt', '.ipynb_checkpoints']"
      ]
     },
     "execution_count": 14,
     "metadata": {},
     "output_type": "execute_result"
    }
   ],
   "source": [
    "os.listdir(\"Inputs/\")"
   ]
  },
  {
   "cell_type": "code",
   "execution_count": 1,
   "id": "b9b955e8-7bb7-4920-b7bc-3a774dc8aaf9",
   "metadata": {},
   "outputs": [],
   "source": [
    "import sys\n",
    "\n",
    "# adding Utility to the system path\n",
    "sys.path.insert(0, '/notebooks/Utility')\n",
    "\n",
    "import UtilityFuncts as uf"
   ]
  },
  {
   "cell_type": "code",
   "execution_count": 6,
   "id": "60c3394c-4b16-48cd-a29e-f8cba7475fd1",
   "metadata": {},
   "outputs": [
    {
     "data": {
      "text/plain": [
       "{'ad1.txt': 'ad1'}"
      ]
     },
     "execution_count": 6,
     "metadata": {},
     "output_type": "execute_result"
    }
   ],
   "source": [
    "uf.obtain_ad_folder_dict()"
   ]
  },
  {
   "cell_type": "code",
   "execution_count": 13,
   "id": "85f130b4-e15d-431f-8402-787cf83a1281",
   "metadata": {},
   "outputs": [],
   "source": [
    "df = pd.read_csv('/notebooks/Inputs/AllEducation.txt', header=None, names=['AllEducation'])"
   ]
  },
  {
   "cell_type": "code",
   "execution_count": 14,
   "id": "3a02c76f-06f6-4242-a734-85ddeac66a60",
   "metadata": {},
   "outputs": [
    {
     "data": {
      "text/html": [
       "<div>\n",
       "<style scoped>\n",
       "    .dataframe tbody tr th:only-of-type {\n",
       "        vertical-align: middle;\n",
       "    }\n",
       "\n",
       "    .dataframe tbody tr th {\n",
       "        vertical-align: top;\n",
       "    }\n",
       "\n",
       "    .dataframe thead th {\n",
       "        text-align: right;\n",
       "    }\n",
       "</style>\n",
       "<table border=\"1\" class=\"dataframe\">\n",
       "  <thead>\n",
       "    <tr style=\"text-align: right;\">\n",
       "      <th></th>\n",
       "      <th>AllEducation</th>\n",
       "    </tr>\n",
       "  </thead>\n",
       "  <tbody>\n",
       "    <tr>\n",
       "      <th>0</th>\n",
       "      <td>Data Science Specialization by Johns Hopkins U...</td>\n",
       "    </tr>\n",
       "    <tr>\n",
       "      <th>1</th>\n",
       "      <td>Bachelor Degree in Computer Science\\nUniversit...</td>\n",
       "    </tr>\n",
       "    <tr>\n",
       "      <th>2</th>\n",
       "      <td>Machine Learning by Andrew Ng on Coursera</td>\n",
       "    </tr>\n",
       "    <tr>\n",
       "      <th>3</th>\n",
       "      <td>Probability and Statistics by MIT OpenCourseWare</td>\n",
       "    </tr>\n",
       "    <tr>\n",
       "      <th>4</th>\n",
       "      <td>Data Science for Everyone by DataCamp</td>\n",
       "    </tr>\n",
       "    <tr>\n",
       "      <th>5</th>\n",
       "      <td>Data Visualization with Python on Coursera</td>\n",
       "    </tr>\n",
       "    <tr>\n",
       "      <th>6</th>\n",
       "      <td>Spark and Hadoop Developer Certification by Cl...</td>\n",
       "    </tr>\n",
       "    <tr>\n",
       "      <th>7</th>\n",
       "      <td>SQL for Data Science by DataCamp</td>\n",
       "    </tr>\n",
       "    <tr>\n",
       "      <th>8</th>\n",
       "      <td>NLP Specialization by deeplearning.ai on Coursera</td>\n",
       "    </tr>\n",
       "    <tr>\n",
       "      <th>9</th>\n",
       "      <td>Practical Time Series Analysis by O'Reilly Media</td>\n",
       "    </tr>\n",
       "    <tr>\n",
       "      <th>10</th>\n",
       "      <td>Experimentation for Improvement by edX</td>\n",
       "    </tr>\n",
       "    <tr>\n",
       "      <th>11</th>\n",
       "      <td>AWS Certified Data Analytics by Amazon Web Ser...</td>\n",
       "    </tr>\n",
       "    <tr>\n",
       "      <th>12</th>\n",
       "      <td>Version Control with Git by Atlassian on Coursera</td>\n",
       "    </tr>\n",
       "    <tr>\n",
       "      <th>13</th>\n",
       "      <td>Computer Vision Specialization by University a...</td>\n",
       "    </tr>\n",
       "    <tr>\n",
       "      <th>14</th>\n",
       "      <td>Certified Data Scientist (CDS) by DASCA.</td>\n",
       "    </tr>\n",
       "  </tbody>\n",
       "</table>\n",
       "</div>"
      ],
      "text/plain": [
       "                                         AllEducation\n",
       "0   Data Science Specialization by Johns Hopkins U...\n",
       "1   Bachelor Degree in Computer Science\\nUniversit...\n",
       "2           Machine Learning by Andrew Ng on Coursera\n",
       "3    Probability and Statistics by MIT OpenCourseWare\n",
       "4               Data Science for Everyone by DataCamp\n",
       "5          Data Visualization with Python on Coursera\n",
       "6   Spark and Hadoop Developer Certification by Cl...\n",
       "7                    SQL for Data Science by DataCamp\n",
       "8   NLP Specialization by deeplearning.ai on Coursera\n",
       "9    Practical Time Series Analysis by O'Reilly Media\n",
       "10             Experimentation for Improvement by edX\n",
       "11  AWS Certified Data Analytics by Amazon Web Ser...\n",
       "12  Version Control with Git by Atlassian on Coursera\n",
       "13  Computer Vision Specialization by University a...\n",
       "14           Certified Data Scientist (CDS) by DASCA."
      ]
     },
     "execution_count": 14,
     "metadata": {},
     "output_type": "execute_result"
    }
   ],
   "source": [
    "df"
   ]
  },
  {
   "cell_type": "code",
   "execution_count": 2,
   "id": "b239a0a9-f769-41ae-8f36-988a96ce36d3",
   "metadata": {},
   "outputs": [],
   "source": [
    "%run \"/notebooks/Pipelines/JobSkillsPipeline.py\""
   ]
  },
  {
   "cell_type": "code",
   "execution_count": 15,
   "id": "c7a742d9-d3f0-400c-8d51-04c6914db5cd",
   "metadata": {},
   "outputs": [],
   "source": [
    "%run \"/notebooks/Pipelines/EducationPipeline.py\""
   ]
  }
 ],
 "metadata": {
  "kernelspec": {
   "display_name": "Python 3 (ipykernel)",
   "language": "python",
   "name": "python3"
  },
  "language_info": {
   "codemirror_mode": {
    "name": "ipython",
    "version": 3
   },
   "file_extension": ".py",
   "mimetype": "text/x-python",
   "name": "python",
   "nbconvert_exporter": "python",
   "pygments_lexer": "ipython3",
   "version": "3.9.16"
  }
 },
 "nbformat": 4,
 "nbformat_minor": 5
}
